{
 "cells": [
  {
   "cell_type": "markdown",
   "id": "a9a2b9ea",
   "metadata": {},
   "source": [
    "# Imports"
   ]
  },
  {
   "cell_type": "code",
   "execution_count": 80,
   "id": "c8b3faa4",
   "metadata": {},
   "outputs": [],
   "source": [
    "import numpy as np\n",
    "from scipy import stats\n",
    "import pandas as pd\n",
    "import math\n",
    "import matplotlib.pyplot as plt\n",
    "import seaborn as sns"
   ]
  },
  {
   "cell_type": "markdown",
   "id": "927a0276",
   "metadata": {},
   "source": [
    "# Hypotesis testing\n",
    "# 2. Two sample t-test"
   ]
  },
  {
   "cell_type": "markdown",
   "id": "bd6c2be9",
   "metadata": {},
   "source": [
    "In a packing plant, a machine packs cartons with jars. It is supposed that a new machine will pack faster on the average than the machine currently used. To test that hypothesis, the times it takes each machine to pack ten cartons are recorded. The results, in seconds, are shown in the tables in the file files_for_lab/machine.txt. Assume that there is sufficient evidence to conduct the t test, does the data provide sufficient evidence to show if one machine is better than the other\n"
   ]
  },
  {
   "cell_type": "markdown",
   "id": "a6f02f2a",
   "metadata": {},
   "source": [
    "### Task"
   ]
  },
  {
   "cell_type": "markdown",
   "id": "f4b02991",
   "metadata": {},
   "source": [
    "**significance level = 0.05 (95% confidence)  \n",
    "goal: check if the new machine is significantly better(faster) than the old machine**"
   ]
  },
  {
   "cell_type": "markdown",
   "id": "93a5d733",
   "metadata": {},
   "source": [
    "### Import data"
   ]
  },
  {
   "cell_type": "code",
   "execution_count": 19,
   "id": "37b958ed",
   "metadata": {},
   "outputs": [
    {
     "data": {
      "text/html": [
       "<div>\n",
       "<style scoped>\n",
       "    .dataframe tbody tr th:only-of-type {\n",
       "        vertical-align: middle;\n",
       "    }\n",
       "\n",
       "    .dataframe tbody tr th {\n",
       "        vertical-align: top;\n",
       "    }\n",
       "\n",
       "    .dataframe thead th {\n",
       "        text-align: right;\n",
       "    }\n",
       "</style>\n",
       "<table border=\"1\" class=\"dataframe\">\n",
       "  <thead>\n",
       "    <tr style=\"text-align: right;\">\n",
       "      <th></th>\n",
       "      <th>New machine</th>\n",
       "      <th>Old machine</th>\n",
       "    </tr>\n",
       "  </thead>\n",
       "  <tbody>\n",
       "    <tr>\n",
       "      <th>0</th>\n",
       "      <td>42.1</td>\n",
       "      <td>42.7</td>\n",
       "    </tr>\n",
       "    <tr>\n",
       "      <th>1</th>\n",
       "      <td>41.0</td>\n",
       "      <td>43.6</td>\n",
       "    </tr>\n",
       "    <tr>\n",
       "      <th>2</th>\n",
       "      <td>41.3</td>\n",
       "      <td>43.8</td>\n",
       "    </tr>\n",
       "    <tr>\n",
       "      <th>3</th>\n",
       "      <td>41.8</td>\n",
       "      <td>43.3</td>\n",
       "    </tr>\n",
       "    <tr>\n",
       "      <th>4</th>\n",
       "      <td>42.4</td>\n",
       "      <td>42.5</td>\n",
       "    </tr>\n",
       "    <tr>\n",
       "      <th>5</th>\n",
       "      <td>42.8</td>\n",
       "      <td>43.5</td>\n",
       "    </tr>\n",
       "    <tr>\n",
       "      <th>6</th>\n",
       "      <td>43.2</td>\n",
       "      <td>43.1</td>\n",
       "    </tr>\n",
       "    <tr>\n",
       "      <th>7</th>\n",
       "      <td>42.3</td>\n",
       "      <td>41.7</td>\n",
       "    </tr>\n",
       "    <tr>\n",
       "      <th>8</th>\n",
       "      <td>41.8</td>\n",
       "      <td>44.0</td>\n",
       "    </tr>\n",
       "    <tr>\n",
       "      <th>9</th>\n",
       "      <td>42.7</td>\n",
       "      <td>44.1</td>\n",
       "    </tr>\n",
       "  </tbody>\n",
       "</table>\n",
       "</div>"
      ],
      "text/plain": [
       "   New machine      Old machine\n",
       "0         42.1             42.7\n",
       "1         41.0             43.6\n",
       "2         41.3             43.8\n",
       "3         41.8             43.3\n",
       "4         42.4             42.5\n",
       "5         42.8             43.5\n",
       "6         43.2             43.1\n",
       "7         42.3             41.7\n",
       "8         41.8             44.0\n",
       "9         42.7             44.1"
      ]
     },
     "execution_count": 19,
     "metadata": {},
     "output_type": "execute_result"
    }
   ],
   "source": [
    "df = pd.read_csv(\"files_for_lab/machine.txt\", encoding='utf-16', sep='\\t')\n",
    "df"
   ]
  },
  {
   "cell_type": "code",
   "execution_count": 20,
   "id": "9396dea4",
   "metadata": {},
   "outputs": [
    {
     "data": {
      "text/plain": [
       "Index(['New machine', '    Old machine'], dtype='object')"
      ]
     },
     "execution_count": 20,
     "metadata": {},
     "output_type": "execute_result"
    }
   ],
   "source": [
    "df.columns"
   ]
  },
  {
   "cell_type": "code",
   "execution_count": 25,
   "id": "dd8cbb1d",
   "metadata": {},
   "outputs": [],
   "source": [
    "df.rename(columns={\"    Old machine\": \"Old machine\"}, inplace=True)"
   ]
  },
  {
   "cell_type": "code",
   "execution_count": 48,
   "id": "7b7fdf7a",
   "metadata": {
    "scrolled": true
   },
   "outputs": [
    {
     "name": "stdout",
     "output_type": "stream",
     "text": [
      "Old machine: mean 43.230, standard deviation 0.711, samples 10\n",
      "New machine: mean 42.140, standard deviation 0.648, samples 10\n"
     ]
    }
   ],
   "source": [
    "print('Old machine: mean {:.3f}, standard deviation {:.3f}, samples {}'.format(np.mean(df['Old machine']), \n",
    "                                                                       np.std(df['Old machine']),\n",
    "                                                                       df['Old machine'].count()))\n",
    "print('New machine: mean {:.3f}, standard deviation {:.3f}, samples {}'.format(np.mean(df['New machine']), \n",
    "                                                                       np.std(df['New machine']),\n",
    "                                                                       df['New machine'].count()))"
   ]
  },
  {
   "cell_type": "code",
   "execution_count": 63,
   "id": "5c508564",
   "metadata": {},
   "outputs": [],
   "source": [
    "mean_old, std_old, n_old = np.mean(df['Old machine']), np.std(df['Old machine']), df['Old machine'].count()\n",
    "mean_new, std_new, n_new = np.mean(df['New machine']), np.std(df['New machine']), df['New machine'].count()"
   ]
  },
  {
   "cell_type": "markdown",
   "id": "07d70a8b",
   "metadata": {},
   "source": [
    "### Checking data"
   ]
  },
  {
   "cell_type": "code",
   "execution_count": 95,
   "id": "db9ed499",
   "metadata": {},
   "outputs": [
    {
     "name": "stderr",
     "output_type": "stream",
     "text": [
      "/opt/anaconda3/lib/python3.9/site-packages/seaborn/distributions.py:2619: FutureWarning: `distplot` is a deprecated function and will be removed in a future version. Please adapt your code to use either `displot` (a figure-level function with similar flexibility) or `histplot` (an axes-level function for histograms).\n",
      "  warnings.warn(msg, FutureWarning)\n",
      "/opt/anaconda3/lib/python3.9/site-packages/seaborn/distributions.py:2619: FutureWarning: `distplot` is a deprecated function and will be removed in a future version. Please adapt your code to use either `displot` (a figure-level function with similar flexibility) or `histplot` (an axes-level function for histograms).\n",
      "  warnings.warn(msg, FutureWarning)\n"
     ]
    },
    {
     "data": {
      "text/plain": [
       "<AxesSubplot:xlabel='New machine', ylabel='Density'>"
      ]
     },
     "execution_count": 95,
     "metadata": {},
     "output_type": "execute_result"
    },
    {
     "data": {
      "image/png": "[encoded data removed]",
      "text/plain": [
       "<Figure size 432x288 with 2 Axes>"
      ]
     },
     "metadata": {
      "needs_background": "light"
     },
     "output_type": "display_data"
    }
   ],
   "source": [
    "plt.subplot(1, 2, 1)\n",
    "sns.distplot(df['Old machine'], bins=10)\n",
    "\n",
    "plt.subplot(1, 2, 2)\n",
    "sns.distplot(df['New machine'], bins=10)"
   ]
  },
  {
   "cell_type": "markdown",
   "id": "856cd4de",
   "metadata": {},
   "source": [
    "### Define the problem"
   ]
  },
  {
   "cell_type": "markdown",
   "id": "88f55035",
   "metadata": {},
   "source": [
    "We are interested in testing the hypothesis that the mean time difference between the two samples is statistically zero, or, in other words, that there is statistically no difference between the average time of the old machine and the new machine. \n",
    "\n",
    "As the new machine seems to be slightly faster on average, we state the alternative hypothesis that the new machine average time is smaller than the old machine average time. This is a left-tailed two samples t-test that can be stated as follows: \n",
    "\n",
    "**- H0: The mean time difference between the two samples is statistically zero.**  \n",
    "H0: µ_old - µ_new = 0  \n",
    "\n",
    "**- HA: The difference between the old mean and the new mean is smaller than zero.**  \n",
    "HA: µ_old - µ_new ≤ 0\n",
    "\n",
    "\n",
    "So, the probability of the new mean time being statistically smaller than the old mean time is equal to the idea of finding a t-statistics value more extreme than our critical value. \n",
    "\n",
    "- P(µ_old - µ_new ≤ 0)\n",
    "- P(t-critical < t-statistics) \n",
    "- P(t-critical < (mean_difference / standard_error))\n",
    "- P(t-critical < (μ_old - μ_new) / (sqr((std_old/n_old) + (std_new/n_new)))"
   ]
  },
  {
   "cell_type": "markdown",
   "id": "50a58f66",
   "metadata": {},
   "source": [
    "### Set up confidence - t-critical value"
   ]
  },
  {
   "cell_type": "markdown",
   "id": "b13c152d",
   "metadata": {},
   "source": [
    "Determining a t-critical value from the Z distribution. How likely are we to reject the Null Hypotesis when it is actually true (Type I error rate).\n",
    "\n",
    "- α = Level of significance = P(Type I error) = P(Reject H0 | H0 is true) = 0.05 (95% of confidence)  \n",
    "- dof (degrees of freedom) = n - 1 = 9  \n",
    "- t-critical = 1.833 (from tables, one tailed test)"
   ]
  },
  {
   "cell_type": "markdown",
   "id": "a23daa9d",
   "metadata": {},
   "source": [
    "### Calculating our t-statistics"
   ]
  },
  {
   "cell_type": "code",
   "execution_count": 51,
   "id": "c7470706",
   "metadata": {},
   "outputs": [
    {
     "name": "stdout",
     "output_type": "stream",
     "text": [
      "2.956\n"
     ]
    }
   ],
   "source": [
    "difference_between_means = mean_old - mean_new\n",
    "standard_error_for_the_mean = math.sqrt((std_old/n_old)+(std_new/n_new))\n",
    "t = round((difference_between_means / standard_error_for_the_mean), 3)\n",
    "print(t)"
   ]
  },
  {
   "cell_type": "markdown",
   "id": "05fb23a8",
   "metadata": {},
   "source": [
    "### Results"
   ]
  },
  {
   "cell_type": "code",
   "execution_count": 53,
   "id": "ed53a4a7",
   "metadata": {},
   "outputs": [
    {
     "data": {
      "text/plain": [
       "True"
      ]
     },
     "execution_count": 53,
     "metadata": {},
     "output_type": "execute_result"
    }
   ],
   "source": [
    "t_critical = 1.833  # t_critical is usually written as t_0.05_9\n",
    "t_statistics = t\n",
    "\n",
    "t_critical < t_statistics"
   ]
  },
  {
   "cell_type": "markdown",
   "id": "10814d42",
   "metadata": {},
   "source": [
    "### Conclusions"
   ]
  },
  {
   "cell_type": "markdown",
   "id": "94027005",
   "metadata": {},
   "source": [
    "Our t-statistics is more extreme than the t-critical value. So we can reject the null hypothesis, that the difference of the mean times is equal to zero.  \n",
    "In that case, we have statistical evidence to say that the mean time of the new machine is statistically smaller than the mean time of the old machine."
   ]
  },
  {
   "cell_type": "markdown",
   "id": "955fc215",
   "metadata": {},
   "source": [
    "We can establish confidence limits around the mean of the difference between the two samples to see it clearly:  "
   ]
  },
  {
   "cell_type": "code",
   "execution_count": 56,
   "id": "8d2dfabb",
   "metadata": {},
   "outputs": [
    {
     "name": "stdout",
     "output_type": "stream",
     "text": [
      "lower 0.41 and upper 1.77\n"
     ]
    }
   ],
   "source": [
    "l_1 = (difference_between_means) - t_critical * standard_error_for_the_mean\n",
    "l_2 = (difference_between_means) + t_critical * standard_error_for_the_mean\n",
    "print('lower {:.2f} and upper {:.2f}'.format(l_1, l_2))"
   ]
  },
  {
   "cell_type": "markdown",
   "id": "7a1760cc",
   "metadata": {},
   "source": [
    "We can put confidence limits around the difference between the two means to see whether a value of zero is a valid estimate of the difference between the two. This is what our null hypothesis asks. "
   ]
  },
  {
   "cell_type": "markdown",
   "id": "067a72bf",
   "metadata": {},
   "source": [
    "As the lower bound and the upper bound are both a positive number, the confidence does not encompass zero indicating that zero (our hypothesized difference) is not a valid estimate of the mean difference between the two samples. This conclusion is obviously the same as the previous test, also stating that we can reject the Null Hypothesis."
   ]
  },
  {
   "cell_type": "markdown",
   "id": "aa560c8c",
   "metadata": {},
   "source": [
    "### Checking results"
   ]
  },
  {
   "cell_type": "markdown",
   "id": "777f9c6e",
   "metadata": {},
   "source": [
    "We are checking the conclusions calculating the p-value.  \n",
    "To calculate the p-value, we will use the survival function (sf = 1 - cdf (cumulative distribution function)) for the given t-statistics value and dof."
   ]
  },
  {
   "cell_type": "code",
   "execution_count": 105,
   "id": "d19948c8",
   "metadata": {},
   "outputs": [],
   "source": [
    "t_stat = t\n",
    "dof = 9\n",
    "alpha = 0.05"
   ]
  },
  {
   "cell_type": "code",
   "execution_count": 106,
   "id": "1ac751b4",
   "metadata": {},
   "outputs": [],
   "source": [
    "p_value = round(stats.t.sf(abs(t_stat), df=dof), 3) # multiply by two as it is a two sided test\n",
    "# 2*(1 - stats.t.cdf(abs(t), df=dof)) -- same results"
   ]
  },
  {
   "cell_type": "code",
   "execution_count": 107,
   "id": "2b084a65",
   "metadata": {},
   "outputs": [
    {
     "name": "stdout",
     "output_type": "stream",
     "text": [
      "0.008\n"
     ]
    }
   ],
   "source": [
    "print(p_value)"
   ]
  },
  {
   "cell_type": "code",
   "execution_count": 110,
   "id": "3fa9fc93",
   "metadata": {},
   "outputs": [
    {
     "data": {
      "text/plain": [
       "True"
      ]
     },
     "execution_count": 110,
     "metadata": {},
     "output_type": "execute_result"
    }
   ],
   "source": [
    "p_value < alpha"
   ]
  },
  {
   "cell_type": "markdown",
   "id": "63bdcdb6",
   "metadata": {},
   "source": [
    "We can reject the Null Hipotesis."
   ]
  },
  {
   "cell_type": "markdown",
   "id": "1d958a09",
   "metadata": {},
   "source": [
    "# Test with scipy.stats libary"
   ]
  },
  {
   "cell_type": "code",
   "execution_count": 114,
   "id": "efe7bc7d",
   "metadata": {},
   "outputs": [
    {
     "name": "stdout",
     "output_type": "stream",
     "text": [
      "p-value: 0.0032111425007745158\n",
      "CONCLUSION:\n",
      "p-value:0.008 < alpha:0.05\n",
      "reject null hypothesis\n"
     ]
    }
   ],
   "source": [
    "ttest, pvalue = stats.ttest_ind(df['Old machine'], df['New machine'])\n",
    "print('p-value:', pvalue) # if the hypothesis was two tailed, we would need p-value/2\n",
    "print(\"CONCLUSION:\")\n",
    "if pvalue < alpha:\n",
    "    print(\"p-value:{} < alpha:{}\".format(p_value, alpha))\n",
    "    print(\"reject null hypothesis\")\n",
    "else:\n",
    "    print(\"p-value:{} !< alpha:{}\".format(p_value, alpha))\n",
    "    print(\"no evidence to reject the null hypothesis\")"
   ]
  },
  {
   "cell_type": "code",
   "execution_count": null,
   "id": "9eec3596",
   "metadata": {},
   "outputs": [],
   "source": []
  },
  {
   "cell_type": "code",
   "execution_count": null,
   "id": "e51e4bf5",
   "metadata": {},
   "outputs": [],
   "source": []
  },
  {
   "cell_type": "code",
   "execution_count": null,
   "id": "581b4312",
   "metadata": {},
   "outputs": [],
   "source": []
  }
 ],
 "metadata": {
  "kernelspec": {
   "display_name": "Python 3 (ipykernel)",
   "language": "python",
   "name": "python3"
  },
  "language_info": {
   "codemirror_mode": {
    "name": "ipython",
    "version": 3
   },
   "file_extension": ".py",
   "mimetype": "text/x-python",
   "name": "python",
   "nbconvert_exporter": "python",
   "pygments_lexer": "ipython3",
   "version": "3.9.12"
  }
 },
 "nbformat": 4,
 "nbformat_minor": 5
}
